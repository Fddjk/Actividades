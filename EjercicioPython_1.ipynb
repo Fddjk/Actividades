{
  "nbformat": 4,
  "nbformat_minor": 0,
  "metadata": {
    "colab": {
      "provenance": []
    },
    "kernelspec": {
      "name": "python3",
      "display_name": "Python 3"
    },
    "language_info": {
      "name": "python"
    }
  },
  "cells": [
    {
      "cell_type": "markdown",
      "source": [
        "#Actividad #2: Ejercicios Básicos de Python.\n",
        "\n",
        "Nombre del alumno: Iván Maglioni Rodríguez\n",
        "--\n",
        "Matrícula: 1992124\n",
        "--\n",
        "Hora: N1.\n",
        "--\n",
        "\n",
        "\n"
      ],
      "metadata": {
        "id": "x4TeF4BGhwdP"
      }
    },
    {
      "cell_type": "code",
      "source": [
        "nombre=input(\"Programa de la actividad #2, primer ejercicio. Ingrese su nombre por favor: \")\n",
        "nombres_vetados=[\"Ana\", \"Juan\", \"Pedro\",\"ana\",\"juan\",\"pedro\"] \n",
        "if nombre not in nombres_vetados:\n",
        " print(f\"Hola {nombre} Es un placer conocerte\")\n",
        "\n",
        "else :\n",
        "  print(f\"No puedo darte un saludo\")"
      ],
      "metadata": {
        "colab": {
          "base_uri": "https://localhost:8080/"
        },
        "id": "Ys7VWFVsiGZm",
        "outputId": "003ad88a-693d-4787-b41c-244800b2eae2"
      },
      "execution_count": 5,
      "outputs": [
        {
          "output_type": "stream",
          "name": "stdout",
          "text": [
            "Programa de la actividad #2, primer ejercicio. Ingrese su nombre por favor: Ivan\n",
            "¡Hola Ivan Es un placer conocerte\n"
          ]
        }
      ]
    },
    {
      "cell_type": "code",
      "source": [
        "msg=(\"Programa de la actividad #2, segundo ejercicio. Una lista  que se invierte.Ingrese la lista:\" )\n",
        "print(msg)\n",
        "list=input()\n",
        "listaInv=list[::-1] \n",
        "print(listaInv)"
      ],
      "metadata": {
        "colab": {
          "base_uri": "https://localhost:8080/"
        },
        "id": "V1Zp2ZuitGJv",
        "outputId": "4904577a-c93e-4a78-d8bc-45f212191a83"
      },
      "execution_count": 57,
      "outputs": [
        {
          "output_type": "stream",
          "name": "stdout",
          "text": [
            "Programa de la actividad #2, segundo ejercicio. Una lista  que se invierte.Ingrese la lista:\n",
            "Leche azucar jamon huevos\n",
            "soveuh nomaj racuza ehceL\n"
          ]
        }
      ]
    },
    {
      "cell_type": "code",
      "source": [
        "msg=(\"Programa de la actividad #2, tercer ejercicio. Serie de fibonacci\" )\n",
        "print(msg)\n",
        "x=0 \n",
        "y=1\n",
        "z=0\n",
        "while True:\n",
        "    n=int(input(\"¿Cuantos números de la sucesión quieres?: \"))\n",
        "    if n>1:\n",
        "        break\n",
        "print(end=\" \")\n",
        "for i in range(0,n):\n",
        "    z=x+y\n",
        "    print(f\"{z}\",end=\" \")\n",
        "    x=y\n",
        "    y=z\n",
        "print(\"\")"
      ],
      "metadata": {
        "colab": {
          "base_uri": "https://localhost:8080/"
        },
        "id": "5VEeYg7j1bNr",
        "outputId": "58887e01-bbe1-410f-facb-dbab6054ec0f"
      },
      "execution_count": 64,
      "outputs": [
        {
          "output_type": "stream",
          "name": "stdout",
          "text": [
            "Programa de la actividad #2, segundo ejercicio. Una lista  que se invierte.Ingrese la lista:\n",
            "¿Cuantos números de la sucesión quieres?: 6\n",
            " 1 2 3 5 8 13 \n"
          ]
        }
      ]
    }
  ]
}